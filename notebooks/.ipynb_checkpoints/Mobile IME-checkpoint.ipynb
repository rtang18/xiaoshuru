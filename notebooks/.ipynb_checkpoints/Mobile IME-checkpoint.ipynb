{
 "cells": [
  {
   "cell_type": "markdown",
   "metadata": {},
   "source": [
    "# Mini Chinese IME with Pinyin Spelling Corrector\n",
    "### Mobile Version\n",
    "A proof of concept using ipywidgets. Corrects pinyin spelling mistakes and suggests characters corresponding to corrected pinyin. As of now, handles single characters and automatically outputs the first suggested character. Bigram and punctuation support coming soon. This version mimics a mobile IME where the suggestions are placed over the input area.\n",
    "\n",
    "- Spelling Corrector inspired by [Peter Norvig](https://norvig.com/spell-correct.html)\n",
    "- Syllable and Character Frequency data from [Jun Da](http://lingua.mtsu.edu/chinese-computing/statistics/bigram/form.php)\n",
    "- The [exploration notebook](https://github.com/rtang18/xiaoshuru/blob/master/notebooks/Discovery%20and%20Discussion.ipynb) detailing the thought process and implementation.\n",
    "- The [GitHub repositiory](https://github.com/rtang18/xiaoshuru) with all notebooks, scripts, and data."
   ]
  },
  {
   "cell_type": "code",
   "execution_count": 2,
   "metadata": {},
   "outputs": [
    {
     "data": {
      "application/vnd.jupyter.widget-view+json": {
       "model_id": "5654e4e2133c43949966c5a8e144934f",
       "version_major": 2,
       "version_minor": 0
      },
      "text/plain": [
       "A Jupyter Widget"
      ]
     },
     "metadata": {},
     "output_type": "display_data"
    },
    {
     "data": {
      "application/vnd.jupyter.widget-view+json": {
       "model_id": "35cc016498ed499ba95d1be603336555",
       "version_major": 2,
       "version_minor": 0
      },
      "text/plain": [
       "A Jupyter Widget"
      ]
     },
     "metadata": {},
     "output_type": "display_data"
    },
    {
     "data": {
      "application/vnd.jupyter.widget-view+json": {
       "model_id": "b6abe93af3cb499c993d6c107d8f1fe2",
       "version_major": 2,
       "version_minor": 0
      },
      "text/plain": [
       "A Jupyter Widget"
      ]
     },
     "metadata": {},
     "output_type": "display_data"
    }
   ],
   "source": [
    "%run ../scripts/mobileime.py"
   ]
  },
  {
   "cell_type": "markdown",
   "metadata": {},
   "source": [
    "The ipywidgets display best when the Jupyter notebook is being run. Below is a capture of me writing, \"你好我是小唐\", which means \"Hello, I am Little Tang\", using the IME."
   ]
  },
  {
   "cell_type": "code",
   "execution_count": 3,
   "metadata": {},
   "outputs": [
    {
     "data": {
      "text/html": [
       "<img src=\"https://raw.githubusercontent.com/rtang18/xiaoshuru/master/notebooks/MobileIME.gif.gif\">"
      ],
      "text/plain": [
       "<IPython.core.display.HTML object>"
      ]
     },
     "execution_count": 3,
     "metadata": {},
     "output_type": "execute_result"
    }
   ],
   "source": [
    "from IPython.display import HTML\n",
    "HTML('<img src=\"https://raw.githubusercontent.com/rtang18/xiaoshuru/master/notebooks/MobileIME.gif.gif\">')"
   ]
  }
 ],
 "metadata": {
  "kernelspec": {
   "display_name": "Python 3",
   "language": "python",
   "name": "python3"
  },
  "language_info": {
   "codemirror_mode": {
    "name": "ipython",
    "version": 3
   },
   "file_extension": ".py",
   "mimetype": "text/x-python",
   "name": "python",
   "nbconvert_exporter": "python",
   "pygments_lexer": "ipython3",
   "version": "3.6.3"
  }
 },
 "nbformat": 4,
 "nbformat_minor": 2
}
