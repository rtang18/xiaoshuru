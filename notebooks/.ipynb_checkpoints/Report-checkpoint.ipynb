{
 "cells": [
  {
   "cell_type": "markdown",
   "metadata": {},
   "source": [
    "# Mini Chinese Input Method Editor with Pinyin Spelling Corrector\n",
    "## Report Notebook\n",
    "I was inspired after reading Peter Norvig's chapter in the book, *Beautiful Data* on Natural Language Corpus Data, and subsequently his [implementation](https://norvig.com/spell-correct.html) of a spelling corrector, and I wondered if I could implement a similar spell corrector for pinyin, with the corrected pinyin being used to suggest individual characters, as a primitive Chinese input method editor would do. The syllable (pinyin without tones) and character frequency lists were taken from [Jun Da](http://lingua.mtsu.edu/chinese-computing/) at Middle Tennessee State University. While I am a linguistics minor who is interested in natural language processing, I do not have any significant experience in it besides messing around with NLTK a little bit. I started this project out of curiosity without much expectation, but I figured that nonetheless, it would be an interesting learning experience. I also wanted to use this opportunity to explore how to make Jupyter notebooks more interactive by learning how to use ipywidgets.\n",
    "\n",
    "The [Repository](https://github.com/rtang18/xiaoshuru):\n",
    "- [notebooks](https://github.com/rtang18/xiaoshuru/notebooks):\n",
    "    - [Discovery and Discussion Notebook](\"https://github.com/rtang18/xiaoshuru/blob/master/notebooks/Discovery%20and%20Discussion.ipynb\"): Includes thought process, exploratory visualizations, first implementations. Good for further contextual reading.\n",
    "    - Report Notebook (this!): Report outlining the project. My intention is that it can be a Kyso.io blog post.\n",
    "    - Interface Notebooks: Notebooks with only the IME widgets.\n",
    "- [scripts](https://github.com/rtang18/xiaoshuru/scripts): Python scripts of the implementation.\n",
    "- [data](https://github.com/rtang18/xiaoshuru/data): CSV files used.\n"
   ]
  },
  {
   "cell_type": "code",
   "execution_count": 1,
   "metadata": {
    "collapsed": true
   },
   "outputs": [],
   "source": [
    "# Dependencies\n",
    "# For working with the data\n",
    "import pandas as pd\n",
    "# For the wordcloud\n",
    "import numpy as np\n",
    "import matplotlib.pyplot as plt\n",
    "import wordcloud as wc\n",
    "# To get rid of tone marks\n",
    "import unidecode\n",
    "# For interactivity\n",
    "from ipywidgets import widgets"
   ]
  },
  {
   "cell_type": "code",
   "execution_count": 2,
   "metadata": {
    "collapsed": true
   },
   "outputs": [],
   "source": [
    "# Read in data\n",
    "syllables = pd.read_csv(\"../data/syllable frequencies.csv\")\n",
    "characters = pd.read_csv(\"../data/character ranking.csv\").dropna()"
   ]
  },
  {
   "cell_type": "markdown",
   "metadata": {},
   "source": [
    "### Data and Visualizations"
   ]
  },
  {
   "cell_type": "markdown",
   "metadata": {},
   "source": [
    "Here is the character data. The characters are ranked by frequency."
   ]
  },
  {
   "cell_type": "code",
   "execution_count": 3,
   "metadata": {},
   "outputs": [
    {
     "data": {
      "text/html": [
       "<div>\n",
       "<style>\n",
       "    .dataframe thead tr:only-child th {\n",
       "        text-align: right;\n",
       "    }\n",
       "\n",
       "    .dataframe thead th {\n",
       "        text-align: left;\n",
       "    }\n",
       "\n",
       "    .dataframe tbody tr th {\n",
       "        vertical-align: top;\n",
       "    }\n",
       "</style>\n",
       "<table border=\"1\" class=\"dataframe\">\n",
       "  <thead>\n",
       "    <tr style=\"text-align: right;\">\n",
       "      <th></th>\n",
       "      <th>frequency_rank</th>\n",
       "      <th>character</th>\n",
       "      <th>pinyin</th>\n",
       "    </tr>\n",
       "  </thead>\n",
       "  <tbody>\n",
       "    <tr>\n",
       "      <th>0</th>\n",
       "      <td>1</td>\n",
       "      <td>的</td>\n",
       "      <td>de</td>\n",
       "    </tr>\n",
       "    <tr>\n",
       "      <th>1</th>\n",
       "      <td>2</td>\n",
       "      <td>一</td>\n",
       "      <td>yī</td>\n",
       "    </tr>\n",
       "    <tr>\n",
       "      <th>2</th>\n",
       "      <td>3</td>\n",
       "      <td>是</td>\n",
       "      <td>shì</td>\n",
       "    </tr>\n",
       "    <tr>\n",
       "      <th>3</th>\n",
       "      <td>4</td>\n",
       "      <td>不</td>\n",
       "      <td>bù</td>\n",
       "    </tr>\n",
       "    <tr>\n",
       "      <th>4</th>\n",
       "      <td>5</td>\n",
       "      <td>了</td>\n",
       "      <td>le</td>\n",
       "    </tr>\n",
       "  </tbody>\n",
       "</table>\n",
       "</div>"
      ],
      "text/plain": [
       "   frequency_rank character pinyin\n",
       "0               1         的     de\n",
       "1               2         一     yī\n",
       "2               3         是    shì\n",
       "3               4         不     bù\n",
       "4               5         了     le"
      ]
     },
     "execution_count": 3,
     "metadata": {},
     "output_type": "execute_result"
    }
   ],
   "source": [
    "characters.head()"
   ]
  },
  {
   "cell_type": "markdown",
   "metadata": {},
   "source": [
    "Here is the syllables data. The syllables are paired with frequency counts."
   ]
  },
  {
   "cell_type": "code",
   "execution_count": 4,
   "metadata": {},
   "outputs": [
    {
     "data": {
      "text/html": [
       "<div>\n",
       "<style>\n",
       "    .dataframe thead tr:only-child th {\n",
       "        text-align: right;\n",
       "    }\n",
       "\n",
       "    .dataframe thead th {\n",
       "        text-align: left;\n",
       "    }\n",
       "\n",
       "    .dataframe tbody tr th {\n",
       "        vertical-align: top;\n",
       "    }\n",
       "</style>\n",
       "<table border=\"1\" class=\"dataframe\">\n",
       "  <thead>\n",
       "    <tr style=\"text-align: right;\">\n",
       "      <th></th>\n",
       "      <th>syllable</th>\n",
       "      <th>frequency</th>\n",
       "    </tr>\n",
       "  </thead>\n",
       "  <tbody>\n",
       "    <tr>\n",
       "      <th>0</th>\n",
       "      <td>a</td>\n",
       "      <td>143836</td>\n",
       "    </tr>\n",
       "    <tr>\n",
       "      <th>1</th>\n",
       "      <td>ai</td>\n",
       "      <td>213586</td>\n",
       "    </tr>\n",
       "    <tr>\n",
       "      <th>2</th>\n",
       "      <td>an</td>\n",
       "      <td>418511</td>\n",
       "    </tr>\n",
       "    <tr>\n",
       "      <th>3</th>\n",
       "      <td>ang</td>\n",
       "      <td>10267</td>\n",
       "    </tr>\n",
       "    <tr>\n",
       "      <th>4</th>\n",
       "      <td>ao</td>\n",
       "      <td>60455</td>\n",
       "    </tr>\n",
       "  </tbody>\n",
       "</table>\n",
       "</div>"
      ],
      "text/plain": [
       "  syllable  frequency\n",
       "0        a     143836\n",
       "1       ai     213586\n",
       "2       an     418511\n",
       "3      ang      10267\n",
       "4       ao      60455"
      ]
     },
     "execution_count": 4,
     "metadata": {},
     "output_type": "execute_result"
    }
   ],
   "source": [
    "syllables.head()"
   ]
  },
  {
   "cell_type": "markdown",
   "metadata": {},
   "source": [
    "Below is a bar plot and a word cloud that shows the most common syllables. We can see that \"de\" is the most common syllable, followed by \"shi\" and \"yi\". Notice how syllables either end in a vowel, \"n\", or \"ng\". Compared to English, there are much fewer ways to make a proper syllable, and there are basically no real consonant clusters. (The velar nasal - \"ng\", the retroflex - \"sh\", while orthographically appear to consist of two consonants, are actually considered singular phonemes linguistically, as opposed to something like \"sk\".)"
   ]
  },
  {
   "cell_type": "code",
   "execution_count": 6,
   "metadata": {},
   "outputs": [
    {
     "data": {
      "image/png": "[encoded data removed]",
      "text/plain": [
       "<matplotlib.figure.Figure at 0x27c40bb0588>"
      ]
     },
     "metadata": {},
     "output_type": "display_data"
    },
    {
     "data": {
      "text/plain": [
       "<matplotlib.figure.Figure at 0x27c40bb01d0>"
      ]
     },
     "metadata": {},
     "output_type": "display_data"
    }
   ],
   "source": [
    "# Bar plot code\n",
    "syllables.sort_values(by=\"frequency\", axis=0, ascending=False).iloc[0:25, :].plot.bar(x=\"syllable\", y=\"frequency\")\n",
    "plt.figure(figsize=(12*.75, 8*.75))\n",
    "plt.show()"
   ]
  },
  {
   "cell_type": "code",
   "execution_count": 7,
   "metadata": {},
   "outputs": [
    {
     "data": {
      "text/html": [
       "<img src=\"https://raw.githubusercontent.com/rtang18/xiaoshuru/master/notebooks/syllcloud.png\">"
      ],
      "text/plain": [
       "<IPython.core.display.HTML object>"
      ]
     },
     "execution_count": 7,
     "metadata": {},
     "output_type": "execute_result"
    }
   ],
   "source": [
    "from IPython.display import HTML\n",
    "HTML('<img src=\"https://raw.githubusercontent.com/rtang18/xiaoshuru/master/notebooks/syllcloud.png\">')"
   ]
  },
  {
   "cell_type": "markdown",
   "metadata": {},
   "source": [
    "Most Chinese IMEs don't differentiate between tones, so we don't either. We add a new column \"toneless\" which contains the pinyin without tone marks generated using Unidecode."
   ]
  },
  {
   "cell_type": "code",
   "execution_count": 9,
   "metadata": {},
   "outputs": [
    {
     "data": {
      "text/html": [
       "<div>\n",
       "<style>\n",
       "    .dataframe thead tr:only-child th {\n",
       "        text-align: right;\n",
       "    }\n",
       "\n",
       "    .dataframe thead th {\n",
       "        text-align: left;\n",
       "    }\n",
       "\n",
       "    .dataframe tbody tr th {\n",
       "        vertical-align: top;\n",
       "    }\n",
       "</style>\n",
       "<table border=\"1\" class=\"dataframe\">\n",
       "  <thead>\n",
       "    <tr style=\"text-align: right;\">\n",
       "      <th></th>\n",
       "      <th>frequency_rank</th>\n",
       "      <th>character</th>\n",
       "      <th>pinyin</th>\n",
       "      <th>toneless</th>\n",
       "    </tr>\n",
       "  </thead>\n",
       "  <tbody>\n",
       "    <tr>\n",
       "      <th>0</th>\n",
       "      <td>1</td>\n",
       "      <td>的</td>\n",
       "      <td>de</td>\n",
       "      <td>de</td>\n",
       "    </tr>\n",
       "    <tr>\n",
       "      <th>1</th>\n",
       "      <td>2</td>\n",
       "      <td>一</td>\n",
       "      <td>yī</td>\n",
       "      <td>yi</td>\n",
       "    </tr>\n",
       "    <tr>\n",
       "      <th>2</th>\n",
       "      <td>3</td>\n",
       "      <td>是</td>\n",
       "      <td>shì</td>\n",
       "      <td>shi</td>\n",
       "    </tr>\n",
       "    <tr>\n",
       "      <th>3</th>\n",
       "      <td>4</td>\n",
       "      <td>不</td>\n",
       "      <td>bù</td>\n",
       "      <td>bu</td>\n",
       "    </tr>\n",
       "    <tr>\n",
       "      <th>4</th>\n",
       "      <td>5</td>\n",
       "      <td>了</td>\n",
       "      <td>le</td>\n",
       "      <td>le</td>\n",
       "    </tr>\n",
       "  </tbody>\n",
       "</table>\n",
       "</div>"
      ],
      "text/plain": [
       "   frequency_rank character pinyin toneless\n",
       "0               1         的     de       de\n",
       "1               2         一     yī       yi\n",
       "2               3         是    shì      shi\n",
       "3               4         不     bù       bu\n",
       "4               5         了     le       le"
      ]
     },
     "execution_count": 9,
     "metadata": {},
     "output_type": "execute_result"
    }
   ],
   "source": [
    "# Use unidecode to get rid of tone marks, add a new column without tone marks\n",
    "toneless = np.array([])\n",
    "for p in characters[\"pinyin\"]:              \n",
    "    toneless = np.append(toneless, unidecode.unidecode(p))\n",
    "characters[\"toneless\"] = toneless\n",
    "characters.head()"
   ]
  },
  {
   "cell_type": "markdown",
   "metadata": {},
   "source": [
    "Now we can search up all the characters that correspond to any syllable written in toneless pinyin. The intuition behind the IME is that it should ideally retrieve all the characters corresponding to any valid toneless pinyin syllable, like \"yi\", in order of usage frequency.\n",
    "\n",
    "For the purposes of the wordcloud and our implementation, we reorganize the dataframes into dictionaries using custom-built functions.\n",
    "\n",
    "### Spelling Corrector Implementation\n",
    "\n",
    "On to the spelling corrector! Our implementation is not much different from [Peter Norvig's](https://norvig.com/spell-correct.html). \n",
    "\n",
    "The intuition behind it is to:\n",
    "1. Get all candidates. Candidates include:\n",
    "    - The input itself if it is a known syllable\n",
    "    - All known syllables one edit away (deletes, transposes, replaces, inserts)\n",
    "    - All known syllables two edits away\n",
    "    - If no known syllables are found using the first three methods, the input itself will be the only candidate returned, so there will be no correction made.\n",
    "2. Get the probabilities for each candidate, based on relative frequency.\n",
    "3. Return the candidate with the highest probability as the correction.\n",
    "\n",
    "All functions functions can be viewed in the [repository](https://github.com/rtang18/xiaoshuru). For more on the process behind the data manipulation and implementation, view the [exploratory notebook]((\"https://github.com/rtang18/xiaoshuru/blob/master/notebooks/Discovery%20and%20Discussion.ipynb\").\n",
    "\n",
    "Here are the candidates and corrections when \"mieo\" and \"ddu\" are inputted:"
   ]
  },
  {
   "cell_type": "code",
   "execution_count": 30,
   "metadata": {
    "scrolled": true
   },
   "outputs": [],
   "source": [
    "%run ../scripts/spellingcorrector.py"
   ]
  },
  {
   "cell_type": "code",
   "execution_count": 31,
   "metadata": {},
   "outputs": [
    {
     "data": {
      "text/plain": [
       "{'miao', 'mie'}"
      ]
     },
     "execution_count": 31,
     "metadata": {},
     "output_type": "execute_result"
    }
   ],
   "source": [
    "candidates(\"mieo\")"
   ]
  },
  {
   "cell_type": "code",
   "execution_count": 22,
   "metadata": {},
   "outputs": [
    {
     "data": {
      "text/plain": [
       "'miao'"
      ]
     },
     "execution_count": 22,
     "metadata": {},
     "output_type": "execute_result"
    }
   ],
   "source": [
    "correction(\"mieo\")"
   ]
  },
  {
   "cell_type": "code",
   "execution_count": 23,
   "metadata": {},
   "outputs": [
    {
     "data": {
      "text/plain": [
       "{'diu', 'dou', 'du'}"
      ]
     },
     "execution_count": 23,
     "metadata": {},
     "output_type": "execute_result"
    }
   ],
   "source": [
    "candidates(\"ddu\")"
   ]
  },
  {
   "cell_type": "code",
   "execution_count": 24,
   "metadata": {},
   "outputs": [
    {
     "data": {
      "text/plain": [
       "'dou'"
      ]
     },
     "execution_count": 24,
     "metadata": {},
     "output_type": "execute_result"
    }
   ],
   "source": [
    "correction(\"ddu\")"
   ]
  },
  {
   "cell_type": "code",
   "execution_count": 32,
   "metadata": {
    "collapsed": true
   },
   "outputs": [],
   "source": [
    "%run ../scripts/dictionarycontingency.py"
   ]
  },
  {
   "cell_type": "markdown",
   "metadata": {},
   "source": [
    "We're getting closer to our IME! Here are the top 10 most frequent characters for the corrected version of \"ddu\", \"dou.\""
   ]
  },
  {
   "cell_type": "code",
   "execution_count": 33,
   "metadata": {},
   "outputs": [
    {
     "data": {
      "text/plain": [
       "['都', '斗', '抖', '豆', '陡', '兜', '逗', '窦', '蚪', '痘']"
      ]
     },
     "execution_count": 33,
     "metadata": {},
     "output_type": "execute_result"
    }
   ],
   "source": [
    "hanzi[correction(\"ddu\")][0:10]"
   ]
  },
  {
   "cell_type": "markdown",
   "metadata": {},
   "source": [
    "> When I have more time, I would definitely look into improving the probability calculations. This is already an improvement over some older IMEs that do not tolerate spelling errors well, but I'm still not sure if \"dou\" is a more realistic choice over \"du\" if I were to type \"ddu\". Certainly, the fact that there is a much more limited amount of syllables in Mandarin can be leveraged as well. In the future, I would also look to using Jun Da's bigram frequency data so that the IME can also handle bigrams. As of now, only one character can be processed at a time, and there is no support for special characters like punctuation marks yet either."
   ]
  },
  {
   "cell_type": "markdown",
   "metadata": {},
   "source": [
    "### The IME\n",
    "I don't have a lot of experience in dashboard creation and interactive front-end in general, so I decided to see what I could do with ipywidgets. While IMEs usually need proper GUIs, this year, I'm challenging myself to make more interactive notebooks. So even though this is a really strange use of the widgets to the point where it's almost like a misuse, it's just a fun proof of concept.\n",
    "\n",
    "There are some limitations. As of now, it handles single characters and automatically outputs the first suggested character. The version below mimics a desktop IME with a select menu. For best results, run the Jupyter Notebook (as opposed to just viewing it on Github/elsewhere)."
   ]
  },
  {
   "cell_type": "code",
   "execution_count": 35,
   "metadata": {},
   "outputs": [
    {
     "data": {
      "application/vnd.jupyter.widget-view+json": {
       "model_id": "eff142dcb69b4fbf8a077ead65cf03dc",
       "version_major": 2,
       "version_minor": 0
      },
      "text/plain": [
       "A Jupyter Widget"
      ]
     },
     "metadata": {},
     "output_type": "display_data"
    },
    {
     "data": {
      "application/vnd.jupyter.widget-view+json": {
       "model_id": "ccefe5448e1e4306a2ee06f9a57c1778",
       "version_major": 2,
       "version_minor": 0
      },
      "text/plain": [
       "A Jupyter Widget"
      ]
     },
     "metadata": {},
     "output_type": "display_data"
    },
    {
     "data": {
      "application/vnd.jupyter.widget-view+json": {
       "model_id": "32b596dc446e415c84ec98bec69f5e40",
       "version_major": 2,
       "version_minor": 0
      },
      "text/plain": [
       "A Jupyter Widget"
      ]
     },
     "metadata": {},
     "output_type": "display_data"
    }
   ],
   "source": [
    "%run ../scripts/desktopime.py"
   ]
  },
  {
   "cell_type": "markdown",
   "metadata": {},
   "source": [
    "Below is a capture of me writing, \"你好我是小唐\", which means \"Hello, I am Little Tang\", using the IME."
   ]
  },
  {
   "cell_type": "code",
   "execution_count": 36,
   "metadata": {},
   "outputs": [
    {
     "data": {
      "text/html": [
       "<img src=\"https://raw.githubusercontent.com/rtang18/xiaoshuru/master/notebooks/DesktopIME.gif.gif\">"
      ],
      "text/plain": [
       "<IPython.core.display.HTML object>"
      ]
     },
     "execution_count": 36,
     "metadata": {},
     "output_type": "execute_result"
    }
   ],
   "source": [
    "from IPython.display import HTML\n",
    "HTML('<img src=\"https://raw.githubusercontent.com/rtang18/xiaoshuru/master/notebooks/DesktopIME.gif.gif\">')"
   ]
  }
 ],
 "metadata": {
  "kernelspec": {
   "display_name": "Python 3",
   "language": "python",
   "name": "python3"
  },
  "language_info": {
   "codemirror_mode": {
    "name": "ipython",
    "version": 3
   },
   "file_extension": ".py",
   "mimetype": "text/x-python",
   "name": "python",
   "nbconvert_exporter": "python",
   "pygments_lexer": "ipython3",
   "version": "3.6.3"
  }
 },
 "nbformat": 4,
 "nbformat_minor": 2
}
