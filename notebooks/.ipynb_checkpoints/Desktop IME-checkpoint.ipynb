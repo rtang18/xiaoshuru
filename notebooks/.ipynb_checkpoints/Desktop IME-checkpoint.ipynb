{
 "cells": [
  {
   "cell_type": "markdown",
   "metadata": {},
   "source": [
    "# Mini Chinese IME with Pinyin Spelling Corrector\n",
    "### Desktop Version\n",
    "A proof of concept using ipywidgets. Corrects pinyin spelling mistakes and suggests characters corresponding to corrected pinyin. As of now, handles single characters and automatically outputs the first suggested character. Bigram and punctuation support coming soon. This version mimics a desktop IME with a select menu.\n",
    "\n",
    "- Spelling Corrector inspired by [Peter Norvig](https://norvig.com/spell-correct.html)\n",
    "- Syllable and Character Frequency data from [Jun Da](http://lingua.mtsu.edu/chinese-computing/statistics/bigram/form.php)\n",
    "- The [exploration notebook](https://github.com/rtang18/xiaoshuru/blob/master/notebooks/Discovery%20and%20Discussion.ipynb) detailing the thought process and implementation.\n",
    "- The [GitHub repositiory](https://github.com/rtang18/xiaoshuru) with all notebooks, scripts, and data."
   ]
  },
  {
   "cell_type": "code",
   "execution_count": 122,
   "metadata": {},
   "outputs": [
    {
     "data": {
      "application/vnd.jupyter.widget-view+json": {
       "model_id": "a5c57fdb0c194620be6c4ad804b6bd1b",
       "version_major": 2,
       "version_minor": 0
      },
      "text/plain": [
       "A Jupyter Widget"
      ]
     },
     "metadata": {},
     "output_type": "display_data"
    },
    {
     "data": {
      "application/vnd.jupyter.widget-view+json": {
       "model_id": "d00b4821175a4860b92609b262311354",
       "version_major": 2,
       "version_minor": 0
      },
      "text/plain": [
       "A Jupyter Widget"
      ]
     },
     "metadata": {},
     "output_type": "display_data"
    },
    {
     "data": {
      "application/vnd.jupyter.widget-view+json": {
       "model_id": "20ef1d1be82c4c05a067f9d26193c8db",
       "version_major": 2,
       "version_minor": 0
      },
      "text/plain": [
       "A Jupyter Widget"
      ]
     },
     "metadata": {},
     "output_type": "display_data"
    }
   ],
   "source": [
    "%run ../scripts/desktopime.py"
   ]
  },
  {
   "cell_type": "markdown",
   "metadata": {},
   "source": [
    "Below is a capture of me writing, \"你好我是小唐\", which means \"Hello, I am Little Tang\", using the IME."
   ]
  },
  {
   "cell_type": "code",
   "execution_count": 135,
   "metadata": {},
   "outputs": [
    {
     "data": {
      "text/html": [
       "<img src=\"https://raw.githubusercontent.com/rtang18/xiaoshuru/master/notebooks/DesktopIME.gif.gif\">"
      ],
      "text/plain": [
       "<IPython.core.display.HTML object>"
      ]
     },
     "execution_count": 135,
     "metadata": {},
     "output_type": "execute_result"
    }
   ],
   "source": [
    "from IPython.display import HTML\n",
    "HTML('<img src=\"https://raw.githubusercontent.com/rtang18/xiaoshuru/master/notebooks/DesktopIME.gif.gif\">')"
   ]
  }
 ],
 "metadata": {
  "kernelspec": {
   "display_name": "Python 3",
   "language": "python",
   "name": "python3"
  },
  "language_info": {
   "codemirror_mode": {
    "name": "ipython",
    "version": 3
   },
   "file_extension": ".py",
   "mimetype": "text/x-python",
   "name": "python",
   "nbconvert_exporter": "python",
   "pygments_lexer": "ipython3",
   "version": "3.6.3"
  }
 },
 "nbformat": 4,
 "nbformat_minor": 2
}
